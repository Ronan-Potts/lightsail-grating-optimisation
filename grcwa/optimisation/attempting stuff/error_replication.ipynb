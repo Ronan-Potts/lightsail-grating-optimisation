{
 "cells": [
  {
   "cell_type": "code",
   "execution_count": 6,
   "metadata": {},
   "outputs": [],
   "source": [
    "import numpy as np\n",
    "import autograd.numpy as npgrad\n",
    "from autograd import grad\n",
    "import matplotlib.pyplot as plt\n",
    "import nlopt\n",
    "\n",
    "\n",
    "def cost_function(x):\n",
    "    cell_geometry = np.ones((10,1), dtype=float)\n",
    "    cell_geometry[:5] = [x[0]]\n",
    "    cell_geometry[5:] = [x[1]]\n",
    "    return (x[0])**2 + (x[1])**2\n",
    "\n",
    "\n",
    "fun = lambda x: cost_function(x)\n",
    "grad_fun = grad(fun)\n",
    "\n",
    "\n",
    "def fun_nlopt(x, gradn):\n",
    "    gradn[:] = grad_fun(x)\n",
    "    return fun(x)"
   ]
  },
  {
   "cell_type": "code",
   "execution_count": 7,
   "metadata": {},
   "outputs": [],
   "source": [
    "# set up NLOPT\n",
    "ndof = 2\n",
    "\n",
    "opt = nlopt.opt(nlopt.LD_MMA, ndof)\n",
    "opt.set_lower_bounds([0,0])\n",
    "opt.set_upper_bounds([10,10])\n",
    "\n",
    "opt.set_xtol_rel(1e-5)\n",
    "opt.set_maxeval(100)\n",
    "\n",
    "opt.set_max_objective(fun_nlopt)\n",
    "vars = opt.optimize([5,5,])\n",
    "\n",
    "print(vars)"
   ]
  },
  {
   "cell_type": "code",
   "execution_count": 10,
   "metadata": {},
   "outputs": [
    {
     "name": "stdout",
     "output_type": "stream",
     "text": [
      "[[1.]\n",
      " [1.]]\n",
      "[[1.]\n",
      " [1.]\n",
      " [1.]\n",
      " [1.]\n",
      " [1.]\n",
      " [2.]\n",
      " [3.]\n",
      " [1.]\n",
      " [1.]\n",
      " [1.]]\n"
     ]
    }
   ],
   "source": [
    "import numpy as np\n",
    "\n",
    "Nx = 10\n",
    "cell_geometry = np.ones((Nx,1), dtype=float)\n",
    "print(cell_geometry[5:7])\n",
    "\n",
    "cell_geometry[5:7] = [[2],[3]]\n",
    "print(cell_geometry)"
   ]
  }
 ],
 "metadata": {
  "kernelspec": {
   "display_name": "Python 3",
   "language": "python",
   "name": "python3"
  },
  "language_info": {
   "codemirror_mode": {
    "name": "ipython",
    "version": 3
   },
   "file_extension": ".py",
   "mimetype": "text/x-python",
   "name": "python",
   "nbconvert_exporter": "python",
   "pygments_lexer": "ipython3",
   "version": "3.9.1"
  },
  "orig_nbformat": 4
 },
 "nbformat": 4,
 "nbformat_minor": 2
}
