{
 "cells": [
  {
   "cell_type": "markdown",
   "metadata": {},
   "source": [
    "# Optimising Ilic-Style Grating for Transverse Damping\n",
    "\n",
    "Here, I will optimise the Ilic-style grating for transverse damping. I will initialise my optimisation problem with the Ilic grating. The goal is then to optimise for the width and position of the two elements in the Ilic-style grating. However, GRCWA uses spatial discretisation. Therefore I cannot directly compute gradients of a cost function with respect to the discrete width or position of the elements. Instead, the method is as follows:\n",
    "\n",
    "1. When the unit cell is considered, it is sliced into Nx discrete components. While the width of the geometry is continuously defined outside of the code, it must be discretised within the code. We do this by effectively cutting off the boundary of each cell element, so that the element's width completely fills each slice. The slices on the boundary of the element which are partially filled will not be considered as part of the element.\n",
    "\n",
    "2. To account for the partially-filled slices, I will instead change the permittivity of the element within that slice. Rather than ignoring the partially filled slices, I will add these slices as part of the cell element, but with a different permittivity. Since the elements have a permittivity of $\\varepsilon_{Si} = 12$, and the substrate has permittivity $\\varepsilon_{SiO_2} = 1$, then the adjusted permittivity of these partially filled slices will be $\\varepsilon = (\\varepsilon_{Si} - \\varepsilon_{SiO_2})\\frac{w-w_\\text{filled}}{2*d/(Nx-1)}$. Here, $w_\\text{filled}$ is the amount of the element which actually fills a unit cell, while $w$ is the width itself. Moreover, $\\frac{d}{N_x-1}$ is the width of each slice, and the factor of 2 is there because there are two boundaries per element.\n",
    "\n",
    "3. Optimise with respect to the changed boundary permittivities, which are continuously defined in GRCWA.\n",
    "\n",
    "\n",
    "But how is this possible? Generally, GRCWA output the gradients of the cost function w.r.t. all of the permittivity values at the sliced grid points, let's call it $pCpe$. We need to manually convert the $pCpe$ into the effective derivative of the cost function with respect to width, call it $pCpw$. This will require many steps\n",
    "\n",
    "\n",
    "1. Find $pCpe$ where only boundary $\\varepsilon$'s are changed.\n",
    "\n",
    "2. Find $pCpw$, given $pCpe$ from above. We have\n",
    "$$\n",
    "    \\frac{\\partial C}{\\partial w} = \\frac{\\partial C}{\\partial \\varepsilon}\\frac{\\partial \\varepsilon}{\\partial w} = \\frac{\\varepsilon_{Si} - \\varepsilon_{SiO_2}}{2\\cdot d/(N_x-1)}\\frac{\\partial C}{\\partial \\varepsilon}\n",
    "$$\n",
    "since $w_\\text{filled}$ is a step function, whose derivative is zero for the cases where this result matters."
   ]
  },
  {
   "cell_type": "markdown",
   "metadata": {},
   "source": [
    "## Creating an Optimisation Software"
   ]
  },
  {
   "cell_type": "markdown",
   "metadata": {},
   "source": [
    "## Applying the Optimisation Software\n"
   ]
  },
  {
   "cell_type": "code",
   "execution_count": 176,
   "metadata": {},
   "outputs": [
    {
     "data": {
      "image/png": "[encoded data removed]",
      "text/plain": [
       "<Figure size 432x288 with 1 Axes>"
      ]
     },
     "metadata": {
      "needs_background": "light"
     },
     "output_type": "display_data"
    },
    {
     "name": "stdout",
     "output_type": "stream",
     "text": [
      "0.27 0.26999800000022867 0.49999994283789206\n",
      "0.63 0.6299979999969805 0.5000007548827679\n"
     ]
    },
    {
     "data": {
      "text/plain": [
       "'\\nProblem: the meshgrid coordinates are not edges, they are centers of bins.\\n'"
      ]
     },
     "execution_count": 176,
     "metadata": {},
     "output_type": "execute_result"
    }
   ],
   "source": [
    "# What is w_filled?\n",
    "import numpy as np\n",
    "import matplotlib.pyplot as plt\n",
    "\n",
    "Nx = 900001\n",
    "Ny = 1\n",
    "\n",
    "d = 1.8  # unit cell width\n",
    "dy = 1e-1\n",
    "x1 = 0.85*d # positions of blocks in unit cell\n",
    "x2 = 0.25*d \n",
    "w1 = 0.15*d # width of blocks in unit cell\n",
    "w2 = 0.35*d\n",
    "\n",
    "ones = np.ones((Nx,Ny))\n",
    "\n",
    "# Defining coordinate system\n",
    "x0 = np.linspace(0,d,Nx)\n",
    "y0 = np.linspace(0,dy,Ny)\n",
    "x, y = np.meshgrid(x0,y0, indexing='ij')\n",
    "\n",
    "# Need to add factor d/2*(Nx-1) as the x-positions in the meshgrid are the centers of bins, not actual bins. The bins have width d/(Nx-1)\n",
    "filter = (abs(x - x1) + (d/(2*(Nx-1))) <= w1/2) | (abs(x-x2) + (d/(2*(Nx-1))) <= w2/2)\n",
    "cell_geometry = np.ones((Nx,Ny))\n",
    "cell_geometry[filter] = 12\n",
    "# How many cells are filled?\n",
    "w_filled_e1 = sum(ones[abs(x-x1) + (d/(2*(Nx-1))) <= w1/2]*d/(Nx-1))\n",
    "w_filled_e2 = sum(ones[abs(x-x2) + (d/(2*(Nx-1))) <= w2/2]*d/(Nx-1))\n",
    "\n",
    "plt.imshow(cell_geometry, interpolation='nearest', aspect='auto', extent=[0,1,d,0])\n",
    "plt.xlabel(\"y\")\n",
    "plt.ylabel(\"x\")\n",
    "plt.show()\n",
    "print(w1, w_filled_e1, (w1-w_filled_e1)/(2*d/(Nx-1)))\n",
    "print(w2, w_filled_e2, (w2-w_filled_e2)/(2*d/(Nx-1)))"
   ]
  }
 ],
 "metadata": {
  "kernelspec": {
   "display_name": "Python 3",
   "language": "python",
   "name": "python3"
  },
  "language_info": {
   "codemirror_mode": {
    "name": "ipython",
    "version": 3
   },
   "file_extension": ".py",
   "mimetype": "text/x-python",
   "name": "python",
   "nbconvert_exporter": "python",
   "pygments_lexer": "ipython3",
   "version": "3.9.2"
  },
  "orig_nbformat": 4
 },
 "nbformat": 4,
 "nbformat_minor": 2
}
